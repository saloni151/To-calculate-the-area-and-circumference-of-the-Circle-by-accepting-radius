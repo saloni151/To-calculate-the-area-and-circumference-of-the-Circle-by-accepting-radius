{
 "cells": [
  {
   "cell_type": "markdown",
   "id": "44c0bc1b-8faa-4b11-8445-d3407915e484",
   "metadata": {},
   "source": [
    "**Write a Python program that will calculate the area and circumference of the Circle by accepting radius**"
   ]
  },
  {
   "cell_type": "code",
   "execution_count": 1,
   "id": "a3d8915d-3ba7-4a51-857b-0bc7e5fa5c86",
   "metadata": {},
   "outputs": [],
   "source": [
    "import math"
   ]
  },
  {
   "cell_type": "code",
   "execution_count": 2,
   "id": "91210612-4dfd-4866-a9c4-a6e58637aa64",
   "metadata": {},
   "outputs": [
    {
     "name": "stdin",
     "output_type": "stream",
     "text": [
      "Enter the value of radius:  5\n"
     ]
    }
   ],
   "source": [
    "#To accept the value of radius\n",
    "r=float(input(\"Enter the value of radius: \"))"
   ]
  },
  {
   "cell_type": "code",
   "execution_count": 3,
   "id": "12fb0763-ff39-4954-beca-e1c2719d9ba7",
   "metadata": {},
   "outputs": [],
   "source": [
    "#To calculate the area of the circle\n",
    "a=math.pi*r**2"
   ]
  },
  {
   "cell_type": "code",
   "execution_count": 4,
   "id": "e298985c-d4d6-46de-a9c9-d0faa1c0ecc6",
   "metadata": {},
   "outputs": [],
   "source": [
    "#To calculate the circumference of the circle\n",
    "c=2*math.pi*r"
   ]
  },
  {
   "cell_type": "code",
   "execution_count": 5,
   "id": "10ca94de-337a-4fdf-80db-38afb94c84dd",
   "metadata": {},
   "outputs": [
    {
     "name": "stdout",
     "output_type": "stream",
     "text": [
      "The radius of the circle (r) is: 5.0\n"
     ]
    }
   ],
   "source": [
    "#To display the radius value of the circle\n",
    "print(\"The radius of the circle (r) is: {}\".format(r))"
   ]
  },
  {
   "cell_type": "code",
   "execution_count": 6,
   "id": "c6e74393-cfc4-43d2-9619-3a741ce5c03e",
   "metadata": {},
   "outputs": [
    {
     "name": "stdout",
     "output_type": "stream",
     "text": [
      "The area of the circle (a) is: 78.53981633974483\n"
     ]
    }
   ],
   "source": [
    "#To display the area of the circle\n",
    "print(\"The area of the circle (a) is: {}\".format(a))"
   ]
  },
  {
   "cell_type": "code",
   "execution_count": 7,
   "id": "a8f154d5-6c71-43b0-a224-26861fc69efc",
   "metadata": {},
   "outputs": [
    {
     "name": "stdout",
     "output_type": "stream",
     "text": [
      "The circumference of the circle (c) is: 31.41592653589793\n"
     ]
    }
   ],
   "source": [
    "#To display the circumference of the circle\n",
    "print(\"The circumference of the circle (c) is: {}\".format(c))"
   ]
  },
  {
   "cell_type": "code",
   "execution_count": null,
   "id": "6bb13388-729b-4685-bfcc-b7c5018972c8",
   "metadata": {},
   "outputs": [],
   "source": []
  },
  {
   "cell_type": "code",
   "execution_count": null,
   "id": "96962c9c-5b43-4602-83a5-f50fb1b52e5c",
   "metadata": {},
   "outputs": [],
   "source": []
  },
  {
   "cell_type": "code",
   "execution_count": null,
   "id": "98b3d7f4-062b-42cb-9ef3-9b1e0b9f07c5",
   "metadata": {},
   "outputs": [],
   "source": []
  },
  {
   "cell_type": "code",
   "execution_count": null,
   "id": "d04de34d-1ea4-4964-b5fc-e15b70893d94",
   "metadata": {},
   "outputs": [],
   "source": []
  },
  {
   "cell_type": "code",
   "execution_count": null,
   "id": "f230501e-2348-4041-bf25-39d42d39dbba",
   "metadata": {},
   "outputs": [],
   "source": []
  },
  {
   "cell_type": "code",
   "execution_count": null,
   "id": "10e44d57-8bbf-4e9a-8426-687c0baf0537",
   "metadata": {},
   "outputs": [],
   "source": []
  },
  {
   "cell_type": "code",
   "execution_count": null,
   "id": "e11c5272-76f9-4c99-b66d-a9e6df911d8b",
   "metadata": {},
   "outputs": [],
   "source": []
  }
 ],
 "metadata": {
  "kernelspec": {
   "display_name": "Python 3 (ipykernel)",
   "language": "python",
   "name": "python3"
  },
  "language_info": {
   "codemirror_mode": {
    "name": "ipython",
    "version": 3
   },
   "file_extension": ".py",
   "mimetype": "text/x-python",
   "name": "python",
   "nbconvert_exporter": "python",
   "pygments_lexer": "ipython3",
   "version": "3.12.7"
  }
 },
 "nbformat": 4,
 "nbformat_minor": 5
}
